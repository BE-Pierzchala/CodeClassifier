{
 "cells": [
  {
   "cell_type": "markdown",
   "id": "87ceb4a5",
   "metadata": {},
   "source": [
    "# Code classifier\n",
    "\n",
    "### At the bottom of this notebok one can try classifiying code\n",
    "\n",
    "## Potential further improvments:\n",
    "1. Preprocessing\n",
    "    - One could further explore if some signs are not removable\n",
    "    - Fully understand, and implement tokenisation - as of now, I'm not 100% sure how it works\n",
    "    - Explore training / testing splitting options, only ones used were 5:95 and 20:80\n",
    "    - Is TFIDF the best for this problem? Probably\n",
    "    - Explore TFIDF options\n",
    "2. Models\n",
    "    - One should definitely try more models\n",
    "    - Two used models (Random Forest, Gradient boosting) were not fully explored\n",
    "3. General\n",
    "    - How do comments affect the models? If someone were to write an essey in one, the training / or trained model could potentially get confused"
   ]
  },
  {
   "cell_type": "code",
   "execution_count": 1,
   "id": "d8f60a9d",
   "metadata": {},
   "outputs": [],
   "source": [
    "import pickle\n",
    "import pandas as pd\n",
    "import numpy as np \n",
    "\n",
    "from sklearn.feature_extraction.text import TfidfVectorizer"
   ]
  },
  {
   "cell_type": "markdown",
   "id": "d2ea0762",
   "metadata": {},
   "source": [
    "#### Choose the best model"
   ]
  },
  {
   "cell_type": "code",
   "execution_count": 2,
   "id": "792aa884",
   "metadata": {},
   "outputs": [],
   "source": [
    "models = 'Models/'\n",
    "list_pickles = ['rfc_5%/df_models_rfc.pickle',\n",
    "                'rfc_20%/df_models_rfc.pickle',\n",
    "                'rfc_small/df_models_rfc.pickle', \n",
    "                'rfc_big/df_models_rfc.pickle',\n",
    "                'df_models_rfc.pickle',\n",
    "                'df_models_gbc.pickle',\n",
    "                'gbc_big/df_models_gbc.pickle']\n",
    "\n",
    "df_summary = pd.DataFrame()\n",
    "\n",
    "for pickle_ in list_pickles:\n",
    "    path = models + pickle_\n",
    "    \n",
    "    with open(path, 'rb') as data:\n",
    "        df = pickle.load(data)\n",
    "\n",
    "    df_summary = pd.concat([df_summary, df])\n",
    "\n",
    "df_summary = df_summary.reset_index().drop('index', axis=1)\n",
    "\n",
    "diff = abs(df_summary['Training Set Accuracy'] - df_summary['Test Set Accuracy'])\n",
    "df_summary['Accuracy difference'] = diff"
   ]
  },
  {
   "cell_type": "markdown",
   "id": "dd7a3a74",
   "metadata": {},
   "source": [
    "One has to compare the ordering with the list_pickles to understand what this means...\n",
    "\n",
    "Random forest 4 is the only model with improved tokenisation"
   ]
  },
  {
   "cell_type": "code",
   "execution_count": 3,
   "id": "c4e4f953",
   "metadata": {},
   "outputs": [
    {
     "data": {
      "text/html": [
       "<div>\n",
       "<style scoped>\n",
       "    .dataframe tbody tr th:only-of-type {\n",
       "        vertical-align: middle;\n",
       "    }\n",
       "\n",
       "    .dataframe tbody tr th {\n",
       "        vertical-align: top;\n",
       "    }\n",
       "\n",
       "    .dataframe thead th {\n",
       "        text-align: right;\n",
       "    }\n",
       "</style>\n",
       "<table border=\"1\" class=\"dataframe\">\n",
       "  <thead>\n",
       "    <tr style=\"text-align: right;\">\n",
       "      <th></th>\n",
       "      <th>Model</th>\n",
       "      <th>Training Set Accuracy</th>\n",
       "      <th>Test Set Accuracy</th>\n",
       "      <th>Accuracy difference</th>\n",
       "    </tr>\n",
       "  </thead>\n",
       "  <tbody>\n",
       "    <tr>\n",
       "      <th>4</th>\n",
       "      <td>Random Forest</td>\n",
       "      <td>0.992826</td>\n",
       "      <td>0.900648</td>\n",
       "      <td>0.092178</td>\n",
       "    </tr>\n",
       "    <tr>\n",
       "      <th>1</th>\n",
       "      <td>Random Forest</td>\n",
       "      <td>0.865000</td>\n",
       "      <td>0.827522</td>\n",
       "      <td>0.037478</td>\n",
       "    </tr>\n",
       "    <tr>\n",
       "      <th>0</th>\n",
       "      <td>Random Forest</td>\n",
       "      <td>0.866758</td>\n",
       "      <td>0.821208</td>\n",
       "      <td>0.045549</td>\n",
       "    </tr>\n",
       "    <tr>\n",
       "      <th>3</th>\n",
       "      <td>Random Forest</td>\n",
       "      <td>0.869095</td>\n",
       "      <td>0.809582</td>\n",
       "      <td>0.059513</td>\n",
       "    </tr>\n",
       "    <tr>\n",
       "      <th>2</th>\n",
       "      <td>Random Forest</td>\n",
       "      <td>0.892390</td>\n",
       "      <td>0.808354</td>\n",
       "      <td>0.084037</td>\n",
       "    </tr>\n",
       "    <tr>\n",
       "      <th>5</th>\n",
       "      <td>Gradient Boosting</td>\n",
       "      <td>0.895797</td>\n",
       "      <td>0.807645</td>\n",
       "      <td>0.088152</td>\n",
       "    </tr>\n",
       "    <tr>\n",
       "      <th>6</th>\n",
       "      <td>Gradient Boosting</td>\n",
       "      <td>0.911415</td>\n",
       "      <td>0.785012</td>\n",
       "      <td>0.126402</td>\n",
       "    </tr>\n",
       "  </tbody>\n",
       "</table>\n",
       "</div>"
      ],
      "text/plain": [
       "               Model  Training Set Accuracy  Test Set Accuracy  \\\n",
       "4      Random Forest               0.992826           0.900648   \n",
       "1      Random Forest               0.865000           0.827522   \n",
       "0      Random Forest               0.866758           0.821208   \n",
       "3      Random Forest               0.869095           0.809582   \n",
       "2      Random Forest               0.892390           0.808354   \n",
       "5  Gradient Boosting               0.895797           0.807645   \n",
       "6  Gradient Boosting               0.911415           0.785012   \n",
       "\n",
       "   Accuracy difference  \n",
       "4             0.092178  \n",
       "1             0.037478  \n",
       "0             0.045549  \n",
       "3             0.059513  \n",
       "2             0.084037  \n",
       "5             0.088152  \n",
       "6             0.126402  "
      ]
     },
     "execution_count": 3,
     "metadata": {},
     "output_type": "execute_result"
    }
   ],
   "source": [
    "df_summary.sort_values('Test Set Accuracy', ascending=False)"
   ]
  },
  {
   "cell_type": "markdown",
   "id": "2040f31b",
   "metadata": {},
   "source": [
    "Choose the model with highest Test Set Accuracy, and no overtraining\n",
    "\n",
    "<b> I will choose the untokenised random forest 1 </b> - It's accuracy is not great, but it's unlikely to be overtrained.\n",
    "\n",
    "#### Load  the bestmodel"
   ]
  },
  {
   "cell_type": "code",
   "execution_count": 4,
   "id": "818acf2c",
   "metadata": {},
   "outputs": [
    {
     "name": "stderr",
     "output_type": "stream",
     "text": [
      "/Users/bartek/miniconda3/envs/language/lib/python3.10/site-packages/sklearn/base.py:299: UserWarning: Trying to unpickle estimator DecisionTreeClassifier from version 1.0.2 when using version 1.2.1. This might lead to breaking code or invalid results. Use at your own risk. For more info please refer to:\n",
      "https://scikit-learn.org/stable/model_persistence.html#security-maintainability-limitations\n",
      "  warnings.warn(\n",
      "/Users/bartek/miniconda3/envs/language/lib/python3.10/site-packages/sklearn/base.py:299: UserWarning: Trying to unpickle estimator RandomForestClassifier from version 1.0.2 when using version 1.2.1. This might lead to breaking code or invalid results. Use at your own risk. For more info please refer to:\n",
      "https://scikit-learn.org/stable/model_persistence.html#security-maintainability-limitations\n",
      "  warnings.warn(\n"
     ]
    }
   ],
   "source": [
    "with open('Models/rfc_20%/best_rfc.pickle', 'rb') as data:\n",
    "    model = pickle.load(data)"
   ]
  },
  {
   "cell_type": "markdown",
   "id": "daaaa15a",
   "metadata": {},
   "source": [
    "#### TF-IDF object\n",
    "\n",
    "<div class=\"alert alert-block alert-info\">\n",
    "If using Random Forest #4 choose tokenised, otherwise Tokenless.\n",
    "</div>"
   ]
  },
  {
   "cell_type": "code",
   "execution_count": 5,
   "id": "943f8fcf",
   "metadata": {},
   "outputs": [
    {
     "name": "stderr",
     "output_type": "stream",
     "text": [
      "/var/folders/gk/8g9qhbjj11xfy8klycs3kcm40000gn/T/ipykernel_40671/1165476265.py:7: DeprecationWarning: Please use `csr_matrix` from the `scipy.sparse` namespace, the `scipy.sparse.csr` namespace is deprecated.\n",
      "  tfidf = pickle.load(data)\n",
      "/Users/bartek/miniconda3/envs/language/lib/python3.10/site-packages/sklearn/base.py:299: UserWarning: Trying to unpickle estimator TfidfTransformer from version 1.0.2 when using version 1.2.1. This might lead to breaking code or invalid results. Use at your own risk. For more info please refer to:\n",
      "https://scikit-learn.org/stable/model_persistence.html#security-maintainability-limitations\n",
      "  warnings.warn(\n",
      "/Users/bartek/miniconda3/envs/language/lib/python3.10/site-packages/sklearn/base.py:299: UserWarning: Trying to unpickle estimator TfidfVectorizer from version 1.0.2 when using version 1.2.1. This might lead to breaking code or invalid results. Use at your own risk. For more info please refer to:\n",
      "https://scikit-learn.org/stable/model_persistence.html#security-maintainability-limitations\n",
      "  warnings.warn(\n"
     ]
    }
   ],
   "source": [
    "# Tokenised:\n",
    "with open('Pickles/tfidf.pickle', 'rb') as data:\n",
    "    tfidf = pickle.load(data)\n",
    "    \n",
    "# Tokenless\n",
    "with open('Pickles/tfidf_tokenless.pickle', 'rb') as data:\n",
    "    tfidf = pickle.load(data)"
   ]
  },
  {
   "cell_type": "markdown",
   "id": "670be983",
   "metadata": {},
   "source": [
    "#### Features from text"
   ]
  },
  {
   "cell_type": "code",
   "execution_count": 6,
   "id": "c02e9d49",
   "metadata": {},
   "outputs": [],
   "source": [
    "def create_features_from_code(code):\n",
    "    df = pd.DataFrame(columns=['file_body'])\n",
    "    df.loc[0] = code\n",
    "    \n",
    "    df.replace('', np.nan, inplace = True)\n",
    "    df.dropna(subset=['file_body'], inplace = True)\n",
    "    \n",
    "    featurues = tfidf.transform(df['file_body']).toarray()\n",
    "    return featurues"
   ]
  },
  {
   "cell_type": "markdown",
   "id": "eb8d932e",
   "metadata": {},
   "source": [
    "#### Predict from code"
   ]
  },
  {
   "cell_type": "code",
   "execution_count": 7,
   "id": "803aafb6",
   "metadata": {},
   "outputs": [],
   "source": [
    "def predict_from_code(code):\n",
    "    f = create_features_from_code(code)\n",
    "    # Predict using the input model\n",
    "    prediction = model.predict(f)[0]\n",
    "    prediction_prob = model.predict_proba(f)[0]\n",
    "    print(\"The predicted language is\", prediction)\n",
    "    print(\"The conditional probability is: %a\" %(prediction_prob.max()*100))"
   ]
  },
  {
   "cell_type": "markdown",
   "id": "2dcea7fc",
   "metadata": {},
   "source": [
    "## Make some predictions"
   ]
  },
  {
   "cell_type": "code",
   "execution_count": 8,
   "id": "9db7c440",
   "metadata": {},
   "outputs": [
    {
     "name": "stdout",
     "output_type": "stream",
     "text": [
      "The predicted language is JavaScript\n",
      "The conditional probability is: 75.63670901813417\n"
     ]
    }
   ],
   "source": [
    "#JavaScript\n",
    "\n",
    "code = '''\n",
    "// Functions as values of a variable\n",
    "var cube = function (x) {\n",
    "  return Math.pow(x, 3);\n",
    "};\n",
    "var cuberoot = function (x) {\n",
    "  return Math.pow(x, 1 / 3);\n",
    "};\n",
    "\n",
    "// Higher order function\n",
    "var compose = function (f, g) {\n",
    "  return function (x) {\n",
    "    return f(g(x));\n",
    "  };\n",
    "};\n",
    "\n",
    "// Storing functions in a array\n",
    "var fun = [Math.sin, Math.cos, cube];\n",
    "var inv = [Math.asin, Math.acos, cuberoot];\n",
    "\n",
    "for (var i = 0; i < 3; i++) {\n",
    "  // Applying the composition to 0.5\n",
    "  console.log(compose(inv[i], fun[i])(0.5));\n",
    "}\n",
    "\n",
    "'''\n",
    "\n",
    "predict_from_code(code)"
   ]
  },
  {
   "cell_type": "code",
   "execution_count": 9,
   "id": "f39d529b",
   "metadata": {},
   "outputs": [
    {
     "name": "stdout",
     "output_type": "stream",
     "text": [
      "The predicted language is Python\n",
      "The conditional probability is: 87.44826928787701\n"
     ]
    }
   ],
   "source": [
    "# Python\n",
    "\n",
    "code = '''\n",
    "# Search for an odd factor of a using brute force:\n",
    "for i in range(n):\n",
    "    if (n%2) == 0:\n",
    "        continue\n",
    "    if (n%i) == 0:\n",
    "        result = i\n",
    "        break\n",
    "else:\n",
    "    result = None\n",
    "    print \"No odd factors found\"\n",
    "\n",
    "'''\n",
    "\n",
    "predict_from_code(code)"
   ]
  },
  {
   "cell_type": "code",
   "execution_count": 10,
   "id": "2b5d3dda",
   "metadata": {},
   "outputs": [
    {
     "name": "stdout",
     "output_type": "stream",
     "text": [
      "The predicted language is Mathematica\n",
      "The conditional probability is: 42.47233917011415\n"
     ]
    }
   ],
   "source": [
    "# Mathematica\n",
    "\n",
    "code = '''\n",
    "{And @@ Table[l = RandomInteger[150, RandomInteger[1000]];\n",
    "   Through[And[Length@# == Length@SelectSort@# &, OrderedQ@SelectSort@# &]@l],\n",
    "   {RandomInteger[150]}],\n",
    " Block[{$RecursionLimit = Infinity},\n",
    "  And @@ Table[l = RandomInteger[150, RandomInteger[1000]];\n",
    "    Through[And[Length@# == Length@SelectSort2@# &, OrderedQ@SelectSort2@# &]@l],\n",
    "    {RandomInteger[150]}]\n",
    "  ]}\n",
    "\n",
    "'''\n",
    "\n",
    "predict_from_code(code)"
   ]
  },
  {
   "cell_type": "code",
   "execution_count": 11,
   "id": "13da523e",
   "metadata": {},
   "outputs": [
    {
     "name": "stdout",
     "output_type": "stream",
     "text": [
      "The predicted language is Fortran\n",
      "The conditional probability is: 86.2725051710276\n"
     ]
    }
   ],
   "source": [
    "# Fortran\n",
    "\n",
    "code = '''\n",
    "program textposition\n",
    "    use kernel32\n",
    "    implicit none\n",
    "    integer(HANDLE) :: hConsole\n",
    "    integer(BOOL) :: q\n",
    "\n",
    "    hConsole = GetStdHandle(STD_OUTPUT_HANDLE)\n",
    "    q = SetConsoleCursorPosition(hConsole, T_COORD(3, 6))\n",
    "    q = WriteConsole(hConsole, loc(\"Hello\"), 5, NULL, NULL)\n",
    "end program\n",
    "'''\n",
    "\n",
    "predict_from_code(code)"
   ]
  },
  {
   "cell_type": "code",
   "execution_count": 12,
   "id": "8e8d936c",
   "metadata": {},
   "outputs": [
    {
     "name": "stdout",
     "output_type": "stream",
     "text": [
      "The predicted language is Swift\n",
      "The conditional probability is: 47.15944260072262\n"
     ]
    }
   ],
   "source": [
    "# Swift\n",
    "code = '''\n",
    "if let firstNumber = Int(\"4\"), let secondNumber = Int(\"42\"), firstNumber < secondNumber && secondNumber < 100 {\n",
    "    print(\"\\(firstNumber) < \\(secondNumber) < 100\")\n",
    "}\n",
    "// Prints \"4 < 42 < 100\"\n",
    "\n",
    "if let firstNumber = Int(\"4\") {\n",
    "    if let secondNumber = Int(\"42\") {\n",
    "        if firstNumber < secondNumber && secondNumber < 100 {\n",
    "            print(\"\\(firstNumber) < \\(secondNumber) < 100\")\n",
    "        }\n",
    "    }\n",
    "}\n",
    "// Prints \"4 < 42 < 100\"\n",
    "'''\n",
    "predict_from_code(code)"
   ]
  },
  {
   "cell_type": "code",
   "execution_count": 13,
   "id": "e78461af",
   "metadata": {},
   "outputs": [
    {
     "name": "stdout",
     "output_type": "stream",
     "text": [
      "The predicted language is Python\n",
      "The conditional probability is: 74.9849906272347\n"
     ]
    }
   ],
   "source": [
    "# Python\n",
    "code = '''\n",
    "import numpy as np\n",
    "\n",
    "x = np.random.rand(100)\n",
    "print(x)\n",
    "\n",
    "x.sort()\n",
    "print(x)\n",
    "'''\n",
    "predict_from_code(code)"
   ]
  },
  {
   "cell_type": "code",
   "execution_count": null,
   "id": "409a37cd",
   "metadata": {},
   "outputs": [],
   "source": []
  }
 ],
 "metadata": {
  "kernelspec": {
   "display_name": "Python 3 (ipykernel)",
   "language": "python",
   "name": "python3"
  },
  "language_info": {
   "codemirror_mode": {
    "name": "ipython",
    "version": 3
   },
   "file_extension": ".py",
   "mimetype": "text/x-python",
   "name": "python",
   "nbconvert_exporter": "python",
   "pygments_lexer": "ipython3",
   "version": "3.10.8"
  }
 },
 "nbformat": 4,
 "nbformat_minor": 5
}
