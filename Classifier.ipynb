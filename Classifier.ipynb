{
 "cells": [
  {
   "cell_type": "code",
   "execution_count": 1,
   "id": "16fd4efb",
   "metadata": {
    "scrolled": false
   },
   "outputs": [
    {
     "name": "stderr",
     "output_type": "stream",
     "text": [
      "/Users/bartek/miniconda3/envs/language/lib/python3.10/site-packages/sklearn/base.py:299: UserWarning: Trying to unpickle estimator DecisionTreeClassifier from version 1.0.2 when using version 1.2.1. This might lead to breaking code or invalid results. Use at your own risk. For more info please refer to:\n",
      "https://scikit-learn.org/stable/model_persistence.html#security-maintainability-limitations\n",
      "  warnings.warn(\n",
      "/Users/bartek/miniconda3/envs/language/lib/python3.10/site-packages/sklearn/base.py:299: UserWarning: Trying to unpickle estimator RandomForestClassifier from version 1.0.2 when using version 1.2.1. This might lead to breaking code or invalid results. Use at your own risk. For more info please refer to:\n",
      "https://scikit-learn.org/stable/model_persistence.html#security-maintainability-limitations\n",
      "  warnings.warn(\n",
      "/Users/bartek/miniconda3/envs/language/lib/python3.10/site-packages/sklearn/base.py:299: UserWarning: Trying to unpickle estimator TfidfTransformer from version 1.0.2 when using version 1.2.1. This might lead to breaking code or invalid results. Use at your own risk. For more info please refer to:\n",
      "https://scikit-learn.org/stable/model_persistence.html#security-maintainability-limitations\n",
      "  warnings.warn(\n",
      "/Users/bartek/miniconda3/envs/language/lib/python3.10/site-packages/sklearn/base.py:299: UserWarning: Trying to unpickle estimator TfidfVectorizer from version 1.0.2 when using version 1.2.1. This might lead to breaking code or invalid results. Use at your own risk. For more info please refer to:\n",
      "https://scikit-learn.org/stable/model_persistence.html#security-maintainability-limitations\n",
      "  warnings.warn(\n"
     ]
    }
   ],
   "source": [
    "from src.classifierClass import Classifier\n",
    "model = Classifier()"
   ]
  },
  {
   "cell_type": "code",
   "execution_count": 2,
   "id": "a684e6f6",
   "metadata": {},
   "outputs": [
    {
     "name": "stdout",
     "output_type": "stream",
     "text": [
      "The predicted language is JavaScript\n",
      "The conditional probability is: 75.637%\n"
     ]
    }
   ],
   "source": [
    "#JavaScript\n",
    "\n",
    "code = '''\n",
    "// Functions as values of a variable\n",
    "var cube = function (x) {\n",
    "  return Math.pow(x, 3);\n",
    "};\n",
    "var cuberoot = function (x) {\n",
    "  return Math.pow(x, 1 / 3);\n",
    "};\n",
    "\n",
    "// Higher order function\n",
    "var compose = function (f, g) {\n",
    "  return function (x) {\n",
    "    return f(g(x));\n",
    "  };\n",
    "};\n",
    "\n",
    "// Storing functions in a array\n",
    "var fun = [Math.sin, Math.cos, cube];\n",
    "var inv = [Math.asin, Math.acos, cuberoot];\n",
    "\n",
    "for (var i = 0; i < 3; i++) {\n",
    "  // Applying the composition to 0.5\n",
    "  console.log(compose(inv[i], fun[i])(0.5));\n",
    "}\n",
    "\n",
    "'''\n",
    "\n",
    "model.predict_from_code(code)"
   ]
  },
  {
   "cell_type": "code",
   "execution_count": 3,
   "id": "4a8784f4",
   "metadata": {},
   "outputs": [
    {
     "name": "stdout",
     "output_type": "stream",
     "text": [
      "The predicted language is Python\n",
      "The conditional probability is: 87.44800000000001%\n"
     ]
    }
   ],
   "source": [
    "# Python\n",
    "\n",
    "code = '''\n",
    "# Search for an odd factor of a using brute force:\n",
    "for i in range(n):\n",
    "    if (n%2) == 0:\n",
    "        continue\n",
    "    if (n%i) == 0:\n",
    "        result = i\n",
    "        break\n",
    "else:\n",
    "    result = None\n",
    "    print \"No odd factors found\"\n",
    "\n",
    "'''\n",
    "\n",
    "model.predict_from_code(code)"
   ]
  },
  {
   "cell_type": "code",
   "execution_count": 4,
   "id": "7e9882fc",
   "metadata": {},
   "outputs": [
    {
     "name": "stdout",
     "output_type": "stream",
     "text": [
      "The predicted language is Mathematica\n",
      "The conditional probability is: 42.472%\n"
     ]
    }
   ],
   "source": [
    "# Mathematica\n",
    "\n",
    "code = '''\n",
    "{And @@ Table[l = RandomInteger[150, RandomInteger[1000]];\n",
    "   Through[And[Length@# == Length@SelectSort@# &, OrderedQ@SelectSort@# &]@l],\n",
    "   {RandomInteger[150]}],\n",
    " Block[{$RecursionLimit = Infinity},\n",
    "  And @@ Table[l = RandomInteger[150, RandomInteger[1000]];\n",
    "    Through[And[Length@# == Length@SelectSort2@# &, OrderedQ@SelectSort2@# &]@l],\n",
    "    {RandomInteger[150]}]\n",
    "  ]}\n",
    "\n",
    "'''\n",
    "\n",
    "model.predict_from_code(code)"
   ]
  },
  {
   "cell_type": "code",
   "execution_count": 5,
   "id": "75cc2e27",
   "metadata": {},
   "outputs": [
    {
     "name": "stdout",
     "output_type": "stream",
     "text": [
      "The predicted language is Swift\n",
      "The conditional probability is: 47.159%\n"
     ]
    }
   ],
   "source": [
    "# Swift\n",
    "code = '''\n",
    "if let firstNumber = Int(\"4\"), let secondNumber = Int(\"42\"), firstNumber < secondNumber && secondNumber < 100 {\n",
    "    print(\"\\(firstNumber) < \\(secondNumber) < 100\")\n",
    "}\n",
    "// Prints \"4 < 42 < 100\"\n",
    "\n",
    "if let firstNumber = Int(\"4\") {\n",
    "    if let secondNumber = Int(\"42\") {\n",
    "        if firstNumber < secondNumber && secondNumber < 100 {\n",
    "            print(\"\\(firstNumber) < \\(secondNumber) < 100\")\n",
    "        }\n",
    "    }\n",
    "}\n",
    "// Prints \"4 < 42 < 100\"\n",
    "'''\n",
    "model.predict_from_code(code)"
   ]
  }
 ],
 "metadata": {
  "kernelspec": {
   "display_name": "Python [conda env:language] *",
   "language": "python",
   "name": "conda-env-language-py"
  },
  "language_info": {
   "codemirror_mode": {
    "name": "ipython",
    "version": 3
   },
   "file_extension": ".py",
   "mimetype": "text/x-python",
   "name": "python",
   "nbconvert_exporter": "python",
   "pygments_lexer": "ipython3",
   "version": "3.10.8"
  }
 },
 "nbformat": 4,
 "nbformat_minor": 5
}
